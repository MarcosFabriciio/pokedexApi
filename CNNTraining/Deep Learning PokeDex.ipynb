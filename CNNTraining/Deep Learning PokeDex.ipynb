{
 "cells": [
  {
   "cell_type": "code",
   "execution_count": 1,
   "metadata": {},
   "outputs": [],
   "source": [
    "#Imports\n",
    "\n",
    "#Google Search Lib\n",
    "#from google_images_download import google_images_download\n",
    "\n",
    "#Keras layers\n",
    "from tensorflow.keras.models import Sequential\n",
    "from tensorflow.keras.layers import BatchNormalization, Conv2D, MaxPooling2D\n",
    "from tensorflow.keras.layers import Activation, Flatten, Dropout, Dense\n",
    "\n",
    "#Keras extras\n",
    "from tensorflow.keras.models import Sequential\n",
    "from tensorflow.keras.models import load_model\n",
    "from tensorflow.keras.utils import to_categorical\n",
    "\n",
    "#SciKit Encoders\n",
    "from sklearn.preprocessing import LabelEncoder\n",
    "from sklearn.preprocessing import OneHotEncoder\n",
    "from sklearn.model_selection import train_test_split\n",
    "\n",
    "#Libs Extras\n",
    "import matplotlib.pyplot as plt\n",
    "from random import shuffle\n",
    "from pathlib import Path\n",
    "from PIL import Image\n",
    "import numpy as np\n",
    "import warnings\n",
    "import json\n",
    "import h5py\n",
    "import os\n",
    "\n",
    "warnings.filterwarnings(\"ignore\")"
   ]
  },
  {
   "cell_type": "markdown",
   "metadata": {},
   "source": [
    "### Baixando as imagens necessárias para treino e teste da rede neural"
   ]
  },
  {
   "cell_type": "markdown",
   "metadata": {},
   "source": [
    "- Rodar apenas uma vez para baixar as imagens, filtrar manualmente as imagens sem contexto."
   ]
  },
  {
   "cell_type": "code",
   "execution_count": 2,
   "metadata": {},
   "outputs": [],
   "source": [
    "# response = google_images_download.googleimagesdownload()\n",
    "\n",
    "\n",
    "# def getImages(key):\n",
    "#     arguments = {\"keywords\": key,\n",
    "#                  \"chromedriver\":\"./chromedriver\",\n",
    "#                  \"limit\":200,\n",
    "#                  \"offset\":100,\n",
    "#                  \"print_urls\":True,\n",
    "#                  \"output_directory\":\"dataset/validation/\"}\n",
    "#     print(arguments)\n",
    "#     response.download(arguments)\n",
    "\n",
    "# pokemonList = [\"Bulbasaur\",\"Charmander\",\"Squirtle\",\"Caterpie\",\"Metapod\",\"Butterfree\",\"Weedle\",\"Kakuna\",\"Beedrill\",\"Pidgey\",\"Rattata\",\"Raticate\",\"Spearow\",\"Fearow\",\"Ekans\",\"Pikachu\",\"Sandshrew\",\"Nidoqueen\",\"Nidoking\",\"Clefairy\",\"Vulpix\",\"Ninetales\",\"Jigglypuff\",\"Zubat\",\"Oddish\",\"Gloom\",\"Paras\",\"Venonat\",\"Venomoth\",\"Dugtrio\",\"Meowth\",\"Persian\",\"Psyduck\",\"Golduck\",\"Mankey\",\"Growlithe\",\"Poliwag\",\"Abra\",\"Machop\",\"Bellsprout\",\"Tentacool\",\"Geodude\",\"Ponyta\",\"Slowpoke\",\"Magnemite\",\"Farfetch'd\",\"Doduo\",\"Seel\",\"Grimer\",\"Shellder\",\"Cloyster\",\"Gastly\",\"Onix\",\"Drowzee\",\"Hypno\",\"Krabby\",\"Voltorb\",\"Exeggcute\",\"Exeggutor\",\"Cubone\",\"Hitmonlee\",\"Hitmonchan\",\"Lickitung\",\"Koffing\",\"Rhyhorn\",\"Chansey\",\"Tangela\",\"Kangaskhan\",\"Horsea\",\"Goldeen\",\"Seaking\",\"Staryu\",\"Starmie\",\"Mr. Mime\",\"Scyther\",\"Jynx\",\"Electabuzz\",\"Magmar\",\"Pinsir\",\"Tauros\",\"Magikarp\",\"Gyarados\",\"Lapras\",\"Ditto\",\"Eevee\",\"Vaporeon\",\"Jolteon\",\"Flareon\",\"Porygon\",\"Omanyte\",\"Kabuto\",\"Kabutops\",\"Aerodactyl\",\"Snorlax\",\"Articuno\",\"Zapdos\",\"Moltres\",\"Dratini\",\"Dragonite\",\"Mewtwo\"]\n",
    "\n",
    "# for pokemon in pokemonList:\n",
    "#     getImages(pokemon)"
   ]
  },
  {
   "cell_type": "markdown",
   "metadata": {},
   "source": [
    "### Montando caminhos da base"
   ]
  },
  {
   "cell_type": "code",
   "execution_count": 3,
   "metadata": {},
   "outputs": [],
   "source": [
    "root = Path(\".\")\n",
    "datasetPaths = list(root.rglob(\"dataset2//train/**/*\"))"
   ]
  },
  {
   "cell_type": "markdown",
   "metadata": {},
   "source": [
    "\n",
    "### Convertendo os PNG para JPG"
   ]
  },
  {
   "cell_type": "markdown",
   "metadata": {},
   "source": [
    "- Usar as duas celulas abaixo apenas se necessário converter as imagens com transparência"
   ]
  },
  {
   "cell_type": "code",
   "execution_count": 4,
   "metadata": {
    "scrolled": true
   },
   "outputs": [],
   "source": [
    "for path in datasetPaths:\n",
    "    if \"DS_Store\" not in path.stem and path.is_file():\n",
    "        try:\n",
    "            im = Image.open(path)\n",
    "            if im.format == \"PNG\":\n",
    "                rgb_im = im.convert('RGB')\n",
    "                rgb_im.save(str(path.parent) + \"\\\\\" + str(path.stem) + \".jpg\")\n",
    "                os.remove(path)\n",
    "            else:\n",
    "                continue\n",
    "        except:\n",
    "            os.remove(path)"
   ]
  },
  {
   "cell_type": "markdown",
   "metadata": {},
   "source": [
    "### Estatisticas  dos tamanhos das imagens"
   ]
  },
  {
   "cell_type": "code",
   "execution_count": 5,
   "metadata": {},
   "outputs": [],
   "source": [
    "def get_size_statistics(paths, typePath):\n",
    "    heights = []\n",
    "    widths = []\n",
    "    img_count = 0\n",
    "    for path in paths:\n",
    "        if \"DS_Store\" not in path.stem and path.is_file():\n",
    "            data = np.array(Image.open(path))\n",
    "            heights.append(data.shape[0])\n",
    "            widths.append(data.shape[1])\n",
    "            img_count += 1\n",
    "    avg_height = sum(heights) / len(heights)\n",
    "    avg_width = sum(widths) / len(widths)\n",
    "\n",
    "    print(\"Number of \" + typePath + \" images: \" + str(img_count))\n",
    "    print(\"Average Height of \"+ typePath + \"images: \" + str(avg_height)+\" px\")\n",
    "    print(\"Max Height of \"+ typePath + \"images: \" + str(max(heights))+\" px\")\n",
    "    print(\"Min Height of \"+ typePath + \"images: \" + str(min(heights))+\" px\")\n",
    "    print(\"Average Width of \"+ typePath + \"images: \" + str(avg_width)+\" px\")\n",
    "    print(\"Max Width of \"+ typePath + \"images: \" + str(max(widths))+\" px\")\n",
    "    print(\"Min Width of \"+ typePath + \"images: \" + str(min(widths))+\" px\")\n",
    "    print(\"\\n\")"
   ]
  },
  {
   "cell_type": "code",
   "execution_count": 6,
   "metadata": {
    "scrolled": true
   },
   "outputs": [
    {
     "name": "stdout",
     "output_type": "stream",
     "text": [
      "Number of Dataset images: 10662\n",
      "Average Height of Datasetimages: 628.2451697617707 px\n",
      "Max Height of Datasetimages: 5000 px\n",
      "Min Height of Datasetimages: 94 px\n",
      "Average Width of Datasetimages: 721.5148189833052 px\n",
      "Max Width of Datasetimages: 8000 px\n",
      "Min Width of Datasetimages: 80 px\n",
      "\n",
      "\n"
     ]
    }
   ],
   "source": [
    "get_size_statistics(datasetPaths, \"Dataset\")"
   ]
  },
  {
   "cell_type": "markdown",
   "metadata": {},
   "source": [
    "### OneHotEncoding das classes"
   ]
  },
  {
   "cell_type": "code",
   "execution_count": 7,
   "metadata": {},
   "outputs": [],
   "source": [
    "nomes = []\n",
    "for path in datasetPaths:\n",
    "    if path.is_dir():\n",
    "        nomes.append(path.name)\n",
    "    else:\n",
    "        continue"
   ]
  },
  {
   "cell_type": "code",
   "execution_count": 8,
   "metadata": {},
   "outputs": [
    {
     "data": {
      "text/plain": [
       "149"
      ]
     },
     "execution_count": 8,
     "metadata": {},
     "output_type": "execute_result"
    }
   ],
   "source": [
    "len(nomes)"
   ]
  },
  {
   "cell_type": "markdown",
   "metadata": {},
   "source": [
    "- Salvando JSON com os nomes e índices dos pokemons, para usar no retorno da predição posteriormente"
   ]
  },
  {
   "cell_type": "code",
   "execution_count": 9,
   "metadata": {},
   "outputs": [],
   "source": [
    "dictNomes = dict(zip(range(len(nomes)), nomes))\n",
    "\n",
    "with open('pokemonList.json', 'w') as pl:\n",
    "    json.dump(dictNomes, pl)"
   ]
  },
  {
   "cell_type": "markdown",
   "metadata": {},
   "source": [
    "- Encoding"
   ]
  },
  {
   "cell_type": "code",
   "execution_count": 10,
   "metadata": {
    "scrolled": true
   },
   "outputs": [],
   "source": [
    "label_encoder = LabelEncoder()\n",
    "integer_encoded = label_encoder.fit_transform(nomes)\n",
    "onehot_encoder = OneHotEncoder(sparse=False)\n",
    "integer_encoded = integer_encoded.reshape(len(integer_encoded), 1)\n",
    "labels = onehot_encoder.fit_transform(integer_encoded)"
   ]
  },
  {
   "cell_type": "markdown",
   "metadata": {},
   "source": [
    "### Carregando as imagens das bases de treino e validação, aplicando os seguintes processos:\n",
    "- Convertendo para escala de cinza, assim a rede vai identificar as formas e então as cores serão irrelevantes.\n",
    "- Transformando todas as imagens para o mesmo tamanho.\n",
    "- Transformando as imagens em uma lista, onde o primeiro elemento é a imagem em formato de np.array e o segundo é a label da imagem de acordo com a classe.\n",
    "- Randomizando a lista para evitar bias na rede"
   ]
  },
  {
   "cell_type": "code",
   "execution_count": 11,
   "metadata": {},
   "outputs": [],
   "source": [
    "IMG_SIZE_Y = 96 #em pixeis\n",
    "IMG_SIZE_X = 96 \n",
    "\n",
    "def load_data(paths, labels, nomes):\n",
    "    data = []\n",
    "    for path in paths:\n",
    "        if \"DS_Store\" not in path.stem and path.is_file():\n",
    "            img = Image.open(path)\n",
    "            img = img.convert('L')\n",
    "            img = img.resize((IMG_SIZE_X, IMG_SIZE_Y), Image.ANTIALIAS)\n",
    "            data.append([np.array(img), labels[nomes.index(path.parent.name)]])\n",
    "            \n",
    "    shuffle(data)\n",
    "    return data"
   ]
  },
  {
   "cell_type": "code",
   "execution_count": 12,
   "metadata": {},
   "outputs": [],
   "source": [
    "dataset = load_data(datasetPaths, labels, nomes)"
   ]
  },
  {
   "cell_type": "markdown",
   "metadata": {},
   "source": [
    "### Preparando a base para treino\n",
    "- Separando em x_train (matrix de imagens) e y_train (vetor de classes)."
   ]
  },
  {
   "cell_type": "code",
   "execution_count": 13,
   "metadata": {},
   "outputs": [],
   "source": [
    "datasetImages = np.array([i[0] for i in dataset]).reshape(-1, IMG_SIZE_X, IMG_SIZE_Y, 1)\n",
    "datasetLabels = np.array([i[1] for i in dataset])"
   ]
  },
  {
   "cell_type": "code",
   "execution_count": 14,
   "metadata": {},
   "outputs": [
    {
     "data": {
      "text/plain": [
       "(10662, 96, 96, 1)"
      ]
     },
     "execution_count": 14,
     "metadata": {},
     "output_type": "execute_result"
    }
   ],
   "source": [
    "datasetImages.shape"
   ]
  },
  {
   "cell_type": "code",
   "execution_count": 15,
   "metadata": {},
   "outputs": [
    {
     "data": {
      "text/plain": [
       "(10662, 149)"
      ]
     },
     "execution_count": 15,
     "metadata": {},
     "output_type": "execute_result"
    }
   ],
   "source": [
    "datasetLabels.shape"
   ]
  },
  {
   "cell_type": "code",
   "execution_count": 16,
   "metadata": {},
   "outputs": [],
   "source": [
    "# Scaling data in array\n",
    "datasetImages = datasetImages / 255.0\n",
    "\n",
    "# Convert labels to categorical format\n",
    "# datasetLabels = to_categorical(range(len(nomes)), len(nomes))\n",
    "\n",
    "# Splitting data to train and test datasets\n",
    "# I'll use these datasets only for training, for final predictions I'll use random pictures from internet\n",
    "X_train, X_test, y_train, y_test = train_test_split(datasetImages, datasetLabels, test_size = 0.2, stratify = datasetLabels, shuffle = True, random_state = 666)"
   ]
  },
  {
   "cell_type": "markdown",
   "metadata": {},
   "source": [
    "### Preparando a rede e as camadas"
   ]
  },
  {
   "cell_type": "code",
   "execution_count": 23,
   "metadata": {
    "scrolled": true
   },
   "outputs": [],
   "source": [
    "model = Sequential()\n",
    "model.add(Conv2D(32, kernel_size = (3, 3), padding = 'same', activation = 'relu', input_shape =(IMG_SIZE_X, IMG_SIZE_Y, 1), kernel_initializer = 'he_normal'))\n",
    "model.add(BatchNormalization(axis = -1))\n",
    "model.add(MaxPooling2D((2, 2)))\n",
    "model.add(Dropout(0.25))\n",
    "\n",
    "model.add(Conv2D(64, kernel_size = (3, 3), padding = 'same', kernel_initializer = 'he_normal', activation = 'relu'))\n",
    "model.add(BatchNormalization(axis = -1))\n",
    "model.add(Conv2D(64, kernel_size = (3, 3), padding = 'same', kernel_initializer = 'he_normal', activation = 'relu'))\n",
    "model.add(BatchNormalization(axis = -1))\n",
    "model.add(MaxPooling2D((2, 2)))\n",
    "model.add(Dropout(0.25))\n",
    "\n",
    "model.add(Conv2D(128, kernel_size = (3, 3), padding = 'same', kernel_initializer = 'he_normal', activation = 'relu'))\n",
    "model.add(BatchNormalization(axis = -1))\n",
    "model.add(Conv2D(128, kernel_size = (3, 3), padding = 'same', kernel_initializer = 'he_normal', activation = 'relu'))\n",
    "model.add(BatchNormalization(axis = -1))\n",
    "model.add(MaxPooling2D((2, 2)))\n",
    "model.add(Dropout(0.25))\n",
    "\n",
    "model.add(Conv2D(256, kernel_size = (3, 3), padding = 'same', kernel_initializer = 'he_normal', activation = 'relu'))\n",
    "model.add(BatchNormalization(axis = -1))\n",
    "model.add(Conv2D(256, kernel_size = (3, 3), padding = 'same', kernel_initializer = 'he_normal', activation = 'relu'))\n",
    "model.add(BatchNormalization(axis = -1))\n",
    "model.add(MaxPooling2D((2, 2)))\n",
    "model.add(Dropout(0.25))\n",
    "\n",
    "model.add(Flatten())\n",
    "model.add(Dense(512, activation = 'relu'))\n",
    "model.add(BatchNormalization())\n",
    "model.add(Dropout(0.5))\n",
    "model.add(Dense(256, activation = 'relu'))\n",
    "model.add(BatchNormalization())\n",
    "model.add(Dropout(0.5))\n",
    "model.add(Dense(len(nomes), activation = 'softmax'))"
   ]
  },
  {
   "cell_type": "code",
   "execution_count": 24,
   "metadata": {},
   "outputs": [],
   "source": [
    "model.compile(loss='binary_crossentropy', optimizer='adam', metrics = ['accuracy'])"
   ]
  },
  {
   "cell_type": "code",
   "execution_count": 25,
   "metadata": {
    "scrolled": true
   },
   "outputs": [
    {
     "name": "stdout",
     "output_type": "stream",
     "text": [
      "Train on 8529 samples\n",
      "Epoch 1/50\n",
      "8529/8529 [==============================] - 11s 1ms/sample - loss: 0.0447 - accuracy: 0.9932\n",
      "Epoch 2/50\n",
      "8529/8529 [==============================] - 7s 835us/sample - loss: 0.0417 - accuracy: 0.9932\n",
      "Epoch 3/50\n",
      "8529/8529 [==============================] - 7s 834us/sample - loss: 0.0398 - accuracy: 0.9933\n",
      "Epoch 4/50\n",
      "8529/8529 [==============================] - 7s 834us/sample - loss: 0.0383 - accuracy: 0.9933\n",
      "Epoch 5/50\n",
      "8529/8529 [==============================] - 7s 836us/sample - loss: 0.0367 - accuracy: 0.9933\n",
      "Epoch 6/50\n",
      "8529/8529 [==============================] - 7s 837us/sample - loss: 0.0355 - accuracy: 0.9933\n",
      "Epoch 7/50\n",
      "8529/8529 [==============================] - 7s 848us/sample - loss: 0.0341 - accuracy: 0.9934\n",
      "Epoch 8/50\n",
      "8529/8529 [==============================] - 7s 854us/sample - loss: 0.0328 - accuracy: 0.9935\n",
      "Epoch 9/50\n",
      "8529/8529 [==============================] - 7s 850us/sample - loss: 0.0315 - accuracy: 0.9935\n",
      "Epoch 10/50\n",
      "8529/8529 [==============================] - 7s 852us/sample - loss: 0.0307 - accuracy: 0.9936\n",
      "Epoch 11/50\n",
      "8529/8529 [==============================] - 7s 850us/sample - loss: 0.0299 - accuracy: 0.9937\n",
      "Epoch 12/50\n",
      "8529/8529 [==============================] - 7s 854us/sample - loss: 0.0285 - accuracy: 0.9938\n",
      "Epoch 13/50\n",
      "8529/8529 [==============================] - 7s 852us/sample - loss: 0.0269 - accuracy: 0.9939\n",
      "Epoch 14/50\n",
      "8529/8529 [==============================] - 7s 855us/sample - loss: 0.0255 - accuracy: 0.9941\n",
      "Epoch 15/50\n",
      "8529/8529 [==============================] - 7s 853us/sample - loss: 0.0246 - accuracy: 0.9942\n",
      "Epoch 16/50\n",
      "8529/8529 [==============================] - 7s 853us/sample - loss: 0.0233 - accuracy: 0.9943\n",
      "Epoch 17/50\n",
      "8529/8529 [==============================] - 7s 852us/sample - loss: 0.0227 - accuracy: 0.9944\n",
      "Epoch 18/50\n",
      "8529/8529 [==============================] - 7s 853us/sample - loss: 0.0217 - accuracy: 0.9945\n",
      "Epoch 19/50\n",
      "8529/8529 [==============================] - 7s 854us/sample - loss: 0.0194 - accuracy: 0.9948\n",
      "Epoch 20/50\n",
      "8529/8529 [==============================] - 7s 854us/sample - loss: 0.0180 - accuracy: 0.9951\n",
      "Epoch 21/50\n",
      "8529/8529 [==============================] - 7s 854us/sample - loss: 0.0166 - accuracy: 0.9954\n",
      "Epoch 22/50\n",
      "8529/8529 [==============================] - 7s 852us/sample - loss: 0.0155 - accuracy: 0.9956\n",
      "Epoch 23/50\n",
      "8529/8529 [==============================] - 7s 855us/sample - loss: 0.0141 - accuracy: 0.9958\n",
      "Epoch 24/50\n",
      "8529/8529 [==============================] - 7s 852us/sample - loss: 0.0138 - accuracy: 0.9958\n",
      "Epoch 25/50\n",
      "8529/8529 [==============================] - 7s 852us/sample - loss: 0.0126 - accuracy: 0.9962\n",
      "Epoch 26/50\n",
      "8529/8529 [==============================] - 7s 853us/sample - loss: 0.0121 - accuracy: 0.9962\n",
      "Epoch 27/50\n",
      "8529/8529 [==============================] - 7s 853us/sample - loss: 0.0105 - accuracy: 0.9967\n",
      "Epoch 28/50\n",
      "8529/8529 [==============================] - 7s 854us/sample - loss: 0.0098 - accuracy: 0.9968\n",
      "Epoch 29/50\n",
      "8529/8529 [==============================] - 7s 852us/sample - loss: 0.0094 - accuracy: 0.9969\n",
      "Epoch 30/50\n",
      "8529/8529 [==============================] - 7s 856us/sample - loss: 0.0092 - accuracy: 0.9971\n",
      "Epoch 31/50\n",
      "8529/8529 [==============================] - 7s 851us/sample - loss: 0.0085 - accuracy: 0.9973\n",
      "Epoch 32/50\n",
      "8529/8529 [==============================] - 7s 854us/sample - loss: 0.0077 - accuracy: 0.9975\n",
      "Epoch 33/50\n",
      "8529/8529 [==============================] - 7s 851us/sample - loss: 0.0074 - accuracy: 0.9976\n",
      "Epoch 34/50\n",
      "8529/8529 [==============================] - 7s 855us/sample - loss: 0.0073 - accuracy: 0.9976\n",
      "Epoch 35/50\n",
      "8529/8529 [==============================] - 7s 871us/sample - loss: 0.0068 - accuracy: 0.9977\n",
      "Epoch 36/50\n",
      "8529/8529 [==============================] - 7s 871us/sample - loss: 0.0065 - accuracy: 0.9978\n",
      "Epoch 37/50\n",
      "8529/8529 [==============================] - 7s 856us/sample - loss: 0.0062 - accuracy: 0.9979\n",
      "Epoch 38/50\n",
      "8529/8529 [==============================] - 7s 857us/sample - loss: 0.0058 - accuracy: 0.9981\n",
      "Epoch 39/50\n",
      "8529/8529 [==============================] - 7s 856us/sample - loss: 0.0057 - accuracy: 0.9981\n",
      "Epoch 40/50\n",
      "8529/8529 [==============================] - 7s 855us/sample - loss: 0.0055 - accuracy: 0.9982\n",
      "Epoch 41/50\n",
      "8529/8529 [==============================] - 7s 856us/sample - loss: 0.0053 - accuracy: 0.9982\n",
      "Epoch 42/50\n",
      "8529/8529 [==============================] - 7s 855us/sample - loss: 0.0054 - accuracy: 0.9982\n",
      "Epoch 43/50\n",
      "8529/8529 [==============================] - 7s 857us/sample - loss: 0.0050 - accuracy: 0.9983\n",
      "Epoch 44/50\n",
      "8529/8529 [==============================] - 7s 856us/sample - loss: 0.0048 - accuracy: 0.9984\n",
      "Epoch 45/50\n",
      "8529/8529 [==============================] - 7s 856us/sample - loss: 0.0049 - accuracy: 0.9984\n",
      "Epoch 46/50\n",
      "8529/8529 [==============================] - 7s 855us/sample - loss: 0.0046 - accuracy: 0.9985\n",
      "Epoch 47/50\n",
      "8529/8529 [==============================] - 7s 854us/sample - loss: 0.0046 - accuracy: 0.9984\n",
      "Epoch 48/50\n",
      "8529/8529 [==============================] - 7s 855us/sample - loss: 0.0043 - accuracy: 0.9985\n",
      "Epoch 49/50\n",
      "8529/8529 [==============================] - 7s 857us/sample - loss: 0.0044 - accuracy: 0.9985\n",
      "Epoch 50/50\n",
      "8529/8529 [==============================] - 7s 855us/sample - loss: 0.0042 - accuracy: 0.9986\n"
     ]
    },
    {
     "data": {
      "text/plain": [
       "<tensorflow.python.keras.callbacks.History at 0x1e848e28ec8>"
      ]
     },
     "execution_count": 25,
     "metadata": {},
     "output_type": "execute_result"
    }
   ],
   "source": [
    "#Treinando o modelo\n",
    "model.fit(X_train, y_train, batch_size = 32, epochs = 50, verbose = 1, use_multiprocessing=True)"
   ]
  },
  {
   "cell_type": "markdown",
   "metadata": {},
   "source": [
    "### Verificando a perda e a precisão do modelo a cada epoch."
   ]
  },
  {
   "cell_type": "code",
   "execution_count": 26,
   "metadata": {},
   "outputs": [
    {
     "data": {
      "text/plain": [
       "Text(0.5, 1.0, 'loss')"
      ]
     },
     "execution_count": 26,
     "metadata": {},
     "output_type": "execute_result"
    },
    {
     "data": {
      "image/png": "[encoded data removed]",
      "text/plain": [
       "<Figure size 1224x288 with 2 Axes>"
      ]
     },
     "metadata": {
      "needs_background": "light"
     },
     "output_type": "display_data"
    }
   ],
   "source": [
    "fig = plt.figure(figsize = (17, 4))\n",
    "    \n",
    "plt.subplot(121)\n",
    "plt.plot(model.history.history['accuracy'], label = 'acc')\n",
    "#plt.plot(model.history.history['val_accuracy'], label = 'val_acc')\n",
    "plt.legend()\n",
    "plt.grid()\n",
    "plt.title(f'accuracy')\n",
    "\n",
    "plt.subplot(122)\n",
    "plt.plot(model.history.history['loss'], label = 'loss')\n",
    "#plt.plot(model.history.history['val_loss'], label = 'val_loss')\n",
    "plt.legend()\n",
    "plt.grid()\n",
    "plt.title(f'loss')"
   ]
  },
  {
   "cell_type": "markdown",
   "metadata": {},
   "source": [
    "### Aplicando base de validação no modelo."
   ]
  },
  {
   "cell_type": "code",
   "execution_count": 27,
   "metadata": {},
   "outputs": [
    {
     "name": "stdout",
     "output_type": "stream",
     "text": [
      "\r",
      "2133/1 [======================================================================================================================================================================================================================================================================================================================================================================================================================================================================================================================================================================================================================================================================================================================================================================================================================================================================================================================================================================================================================================================================================================================================================================================================================================================================================================================================================================================================================================================================================================================================================================================================================================================================================================================================================================================================================================================================================================================================================================================================================================================================================================================================================================================================================================================================================================================================================================================================================================================================================================================================================================================================================================================================================================================================================================================================================================================================================================================================================================================================================================================================================================================================================================================================================================================================================================================================================================================================================================================================================================================================================================================================================================================================================================================================================================================================================================================================================================================================================================================================================================================================================================================================================================================================================================================================================================================================================================================================================================================================================================================================================================================================================================================================================================================================================================================================================================================================================================================================================================================================================================================================================================================================================================================================================================================================================================================================================================================================================================================================================================================================================================================================================================================================================================================================================================================================================================================================================================================================================================================================================================================================================================================================================================================================================================================================================================================================================================================================================================================================================================================================================================================================================================================================================================================================================================================================================================================================================================================================================================================================================================================================================================================================================================================================================================================================================================================================================================================================================================================================================================================================================================================================================================================================================================================================================================================================================================================================================================================================================================================================================================================================================================================================================================================================================================================================================================================================================================================================================================================================================================================================================================================================================================================================================================================================================================================================================================================================================================================================================================================================================================================================================================================================================================================================================================================================================================================================================================================================================================================================================================================================================================================================================================================================================================================================================================================================================================================================================================================================================================================================================================================================================================================================================================================================================================================================================================================================================================================================================================================================================================================================================================================================================================================================================================================================================================================================================================================================================================================================================================================================================================================================================================================================================================================================================================================================================================================================================================================================================================================================================================================================================================================================================================================================================================================================================================================================================================================================================================================================================================================================================================================================================================================================================================================================================================================================================================================================================================================================================================================================================================================================================================================================================================================================================================================================================================================================================================================================================================================================================================================================================================================================================================================================================================================================================================================================================================================================================================================================================================================================================================================================================================================================================================================================================================================================================================================================================================================================================================================================================================================================================================================================================================================================================================================================================================================================================================================================================================================================================================================================================================================================================================================================================================================================================================================================================================================================================================================================================================================================================================================================================================================================================================================================================================================================================================================================================================================================================================================================================================================================================================================================================================================================================================================================================================================================================================================================================================================================================================================================================================================================================================================================================================================================================================================================================================================================================================================================================================================================================================================================================================================================================================================================================================================================================================================================================================================================================================================================================================================================================================================================================================================================================================================================================================================================================================================================================================================================================================================================================================================================================================================================================================================================================================================================================================================================================================================================================================================================================================================================================================================================================================================================================================================================================================================================================================================================================================================================================================================================================================================================================================================================================================================================================================================================================================================================================================================================================================================================================================================================================================================================================================================================================================================================================================================================================================================================================================================================================================================================================================================================================================================================================================================================================================================================================================================================================================================================================================================================================================================================================================================================================================================================================================================================================================================================================================================================================================================================================================================================================================================================================================================================================================================================================================================================================================================================================================================================================================================================================================================================================================================================================================================================================================================================================================================================================================================================================================================================================================================================================================================================================================================================================================================================================================================================================================================================================================================================================================================================================================================================================================================================================================================================================================================================================================================================================================================================================================================================================================================================================================================================================================================================================================================================================================================================================================================================================================================================================================================================================================================================================================================================================================================================================================================================================================================================================================================================================================================================================================================================================================================================================================================================================================================================================================================================================================================================================================================================================================================================================================================================================================================================================================================================================================================================================================================================================================================================================================================================================================================================================================================================================================================================================================================================================================================================================================================================================================================================================================================================================================================================================================================================================================================================================================================================================================================================================================================================================================================================================================================================================================================================================================================================================================================================================================================================================================================================================================================================================================================================================================================================================================================================================================================================================================================================================================================================================================================================================================================================================================================================================================================================================================================================================================================================================================================================================================================================================================================================================================================================================================================================================================================================================================================================================================================================================================================================================================================================================================================================================================================================================================================================================================================================================================================================================================================================================================================================================================================================================================================================================================================================================================================================================================================================================================================================================================================================================================================================================================================================================================================================================================================================================================================================================================================================================================================================================================================================================================================================================================================================================================================================================================================================================================================================================================================================================================================================================================================================================================================================================================================================================================================================================================================================================================================================================================================================================================================================================================================================================================================================================================================================================================================================================================================================================================================================================================================================================================================================================================================================================================================================================================================================================================================================================================================================================================================================================================================================================================================================================================================================================================================================================================================================================================================================================================================================================================================================================================================================================================================================================================================================================================================================================================================================================================================================================================================================================================================================================================================================================================================================================================================================================================================================================================================================================================================================================================================================================================================================================================================================================================================================================================================================================================================================================================================================================================================================================================================================================================================================================================================================================================================================================================================================================================================================================================================================================================================================================================================================================================================================================================================================================================================================================================================================================================================================================================================================================================================================================================================================================================================================================================================================================================================================================================================================================================================================================================================================================================================================================================================================================================================================================================================================================================================================================================================================================================================================================================================================================================================================================================================================================================================================================================================================================================================================================================================================================================================================================================================================================================================================================================================================================================================================================================================================================================================================================================================================================================================================================================================================================================================================================================================================================================================================================================================================================================================================================================================================================================================================================================================================================================================================================================================================================================================================================================================================================================================================================================================================================================================================================================================================================================================================================================================================================================================================================================================================================================================================================================================================================================================================================================================================================================================================================================================================================================================================================================================================================================================================================================================================================================================================================================================================================================================================================================================================================================================================================================================================================================================================================================================================================================================================================================================================================================================================================================================================================================================================================================================================================================================================================================================================================================================================================================================================================================================================================================================================================================================================================================================================================================================================================================================================================================================================================================================================================================================================================================================================================================================================================================================================================================================================================================================================================================================================================================================================================================================================================================================================================================================================================================================================================================================================================================================================================================================================================================================================================================================================================================================================================================================================================================================================================================================================================================================================================================================================================================================================================================================================================================================================================================================================================================================================================================================================================================================================================================================================================================================================================================================================================================================================================================================================================================================================================================================================================================================================================================================================================================================================================================================================================================================================================================================================================================================================================================================================================================================================================================================================================================================================================================================================================================================================================================================================================================================================================================================================================================================================================================================================================================================================================================================================================================================================================================================================================================================================================================================================================================================================================================================================================================================================================================================================================================================================================================================================================================================================================================================================================================================================================================================================================================================================================================================================================================================================================================================================================================================================================================================================================================================================================================================================================================================================================================================================================================================================================================================================================================================================================================================================================================================================================================================================================================================================================================================================================================================================================================================================================================================================================================================================================================================================================================================================================================================================================================================================================================================================================================================================================================================================================================================================================================================================================================================================================================================================================================================================================================================================================================================================================================================================================================================================================================================================================================================================================================================================================================================================================================================================================================================================================================================================================================================================================================================================================================================================================================================================================================================================================================================================================================================================================================================================================================================================================================================================================================================================================================================================================================================================================================================================================================================================================================================================================================================================================================================================================================================================================================================================================================================================================================================================================================================================================================================================================================================================================================================================================================================================================================================================================================================================================================================================================================================================================================================================================================================================================================================================================================================================================================================================================================================================================================================================================================================================================================================================================================================================================================================================================================================================================================================================================================================================================================================================================================================================================================================================================================================================================================================================================================================================================================================================================================================================================================================================================================================================================================================================================================================================================================================================================================================================================================================================================================================================================================================================================================================================================================================================================================================================================================================================================================================================================================================================================================================================================================================================================================================================================================================================================================================================================================================================================================================================================================================================================================================================================================================================================================================================================================================================================================================================================================================================================================================================================================================================================================================================================================================================================================================================================================================================================================================================================================================================================================================================================================================================================================================================================================================================================================================================================================================================================================================================================================================================================================================================================================================================================================================================================================================================================================================================================================================================================================================================================================================================================================================================================================================================================================================================================================================================================================================================================================================================================================================================================================================================================================================================================================================================================================================================================================================================================================================================================================================================================================================================================================================================================================================================================================================================================================================================================================================================================================================================================================================================================================================================================================================================================================================================================================================================================================================================================================================================================================================================================================================================================================================================================================================================================================================================================================================================================================================================================================================================================================================================================================================================================================================================================================================================================================================================================================================================================================================================================================================================================================================================================================================================================================================================================================================================================================================================================================================================================================================================================================================================================================================================================================================================================================================================================================================================================================================================================================================================================================================================================================================================================================================================================================================================================================================================================================================================================================================================================================================================================================================================================================================================================================================================================================================================================================================================================================================================================================================================================================================================================================================================================================================================================================================================================================================================================================================================================================================================================================================================================================================================================================================================================================================================================================================================================================================================================================================================================================================================================================================================================================================================================================================================================================================================================================================================================================================================================================================================================================================================================================================================================================================================================================================================================================================================================================================================================================================================================================================================================================================================================================================================================================================================================================================================================================================================================================================================================================================================================================================================================================================================================================================================================================================================================================================================================================================================================================================================================================================================================================================================================================================================================================================================================================================================================================================================================================================================================================================================================================================================================================================================================================================================================================================================================================================================================================================================================================================================================================================================================================================================================================================================================================================================================================================================================================================================================================================================================================================================================================================================================================================================================================================================================================================================================================================================================================================================================================================================================================================================================================================================================================================================================================================================================================================================================================================================================================================================================================================================================================================================================================================================================================================================================================================================================================================================================================================================================================================================================================================================================================================================================================================================================================================================================================================================================================================================================================================================================================================================================================================================================================================================================================================================================================================================================================================================================================================================================================================================================================================================================================================================================================================================================================================================================================================================================================================================================================================================================================================] - 1s 501us/sample - loss: 0.0377 - accuracy: 0.9936\n"
     ]
    }
   ],
   "source": [
    "loss, acc = model.evaluate(X_test, y_test, verbose = 1)"
   ]
  },
  {
   "cell_type": "code",
   "execution_count": 28,
   "metadata": {},
   "outputs": [
    {
     "data": {
      "text/plain": [
       "0.0342657443588321"
      ]
     },
     "execution_count": 28,
     "metadata": {},
     "output_type": "execute_result"
    }
   ],
   "source": [
    "loss"
   ]
  },
  {
   "cell_type": "code",
   "execution_count": 29,
   "metadata": {},
   "outputs": [
    {
     "data": {
      "text/plain": [
       "0.9935816"
      ]
     },
     "execution_count": 29,
     "metadata": {},
     "output_type": "execute_result"
    }
   ],
   "source": [
    "acc"
   ]
  },
  {
   "cell_type": "markdown",
   "metadata": {},
   "source": [
    "### Testando com outra imagem fora da base"
   ]
  },
  {
   "cell_type": "code",
   "execution_count": 30,
   "metadata": {},
   "outputs": [],
   "source": [
    "from tensorflow import cast\n",
    "from tensorflow import float32"
   ]
  },
  {
   "cell_type": "code",
   "execution_count": 31,
   "metadata": {},
   "outputs": [],
   "source": [
    "predict = Image.open(\"dataset2/train/Abra/0282b2f3a22745f1a436054ea15a0ae5.jpg\")\n",
    "predict = predict.convert('L')\n",
    "predict = predict.resize((IMG_SIZE_X, IMG_SIZE_Y), Image.ANTIALIAS)"
   ]
  },
  {
   "cell_type": "code",
   "execution_count": 32,
   "metadata": {},
   "outputs": [],
   "source": [
    "image = cast(np.array(predict).reshape(-1, IMG_SIZE_X, IMG_SIZE_Y, 1), float32)"
   ]
  },
  {
   "cell_type": "code",
   "execution_count": 33,
   "metadata": {},
   "outputs": [
    {
     "data": {
      "text/plain": [
       "array([105], dtype=int64)"
      ]
     },
     "execution_count": 33,
     "metadata": {},
     "output_type": "execute_result"
    }
   ],
   "source": [
    "model.predict_classes(image)"
   ]
  },
  {
   "cell_type": "markdown",
   "metadata": {},
   "source": [
    "- Salvando modelo"
   ]
  },
  {
   "cell_type": "code",
   "execution_count": 34,
   "metadata": {},
   "outputs": [],
   "source": [
    "model.save(\"secondeModel.h5\")"
   ]
  }
 ],
 "metadata": {
  "kernelspec": {
   "display_name": "Python 3",
   "language": "python",
   "name": "python3"
  },
  "language_info": {
   "codemirror_mode": {
    "name": "ipython",
    "version": 3
   },
   "file_extension": ".py",
   "mimetype": "text/x-python",
   "name": "python",
   "nbconvert_exporter": "python",
   "pygments_lexer": "ipython3",
   "version": "3.7.6"
  },
  "pycharm": {
   "stem_cell": {
    "cell_type": "raw",
    "metadata": {
     "collapsed": false
    },
    "source": []
   }
  }
 },
 "nbformat": 4,
 "nbformat_minor": 2
}

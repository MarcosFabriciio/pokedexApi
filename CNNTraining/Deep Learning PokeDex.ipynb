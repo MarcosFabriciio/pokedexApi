{
 "cells": [
  {
   "cell_type": "code",
   "execution_count": 1,
   "metadata": {},
   "outputs": [
    {
     "name": "stderr",
     "output_type": "stream",
     "text": [
      "Using TensorFlow backend.\n"
     ]
    }
   ],
   "source": [
    "#Imports\n",
    "\n",
    "#Google Search Lib\n",
    "from google_images_download import google_images_download\n",
    "\n",
    "#Keras layers\n",
    "from keras.layers import Dense, Dropout, Flatten\n",
    "from keras.layers import Conv2D, MaxPooling2D\n",
    "from keras.layers.normalization import BatchNormalization\n",
    "\n",
    "#Keras extras\n",
    "from keras.models import Sequential\n",
    "from keras.models import load_model\n",
    "\n",
    "#SciKit Encoders\n",
    "from sklearn.preprocessing import LabelEncoder\n",
    "from sklearn.preprocessing import OneHotEncoder\n",
    "\n",
    "#Libs Extras\n",
    "import matplotlib.pyplot as plt\n",
    "from random import shuffle\n",
    "from pathlib import Path\n",
    "from PIL import Image\n",
    "import numpy as np\n",
    "import warnings\n",
    "import json\n",
    "import h5py\n",
    "import os"
   ]
  },
  {
   "cell_type": "markdown",
   "metadata": {},
   "source": [
    "### Baixando as imagens necessárias para treino e teste da rede neural"
   ]
  },
  {
   "cell_type": "markdown",
   "metadata": {},
   "source": [
    "- Rodar apenas uma vez para baixar as imagens, filtrar manualmente as imagens sem contexto."
   ]
  },
  {
   "cell_type": "code",
   "execution_count": 2,
   "metadata": {},
   "outputs": [],
   "source": [
    "# response = google_images_download.googleimagesdownload()\n",
    "\n",
    "\n",
    "# def getImages(key):\n",
    "#     arguments = {\"keywords\": key,\n",
    "#                  \"chromedriver\":\"./chromedriver\",\n",
    "#                  \"limit\":200,\n",
    "#                  \"offset\":100,\n",
    "#                  \"print_urls\":True,\n",
    "#                  \"output_directory\":\"dataset/validation/\"}\n",
    "#     print(arguments)\n",
    "#     response.download(arguments)\n",
    "\n",
    "# pokemonList = [\"Bulbasaur\",\"Charmander\",\"Squirtle\",\"Caterpie\",\"Metapod\",\"Butterfree\",\"Weedle\",\"Kakuna\",\"Beedrill\",\"Pidgey\",\"Rattata\",\"Raticate\",\"Spearow\",\"Fearow\",\"Ekans\",\"Pikachu\",\"Sandshrew\",\"Nidoqueen\",\"Nidoking\",\"Clefairy\",\"Vulpix\",\"Ninetales\",\"Jigglypuff\",\"Zubat\",\"Oddish\",\"Gloom\",\"Paras\",\"Venonat\",\"Venomoth\",\"Dugtrio\",\"Meowth\",\"Persian\",\"Psyduck\",\"Golduck\",\"Mankey\",\"Growlithe\",\"Poliwag\",\"Abra\",\"Machop\",\"Bellsprout\",\"Tentacool\",\"Geodude\",\"Ponyta\",\"Slowpoke\",\"Magnemite\",\"Farfetch'd\",\"Doduo\",\"Seel\",\"Grimer\",\"Shellder\",\"Cloyster\",\"Gastly\",\"Onix\",\"Drowzee\",\"Hypno\",\"Krabby\",\"Voltorb\",\"Exeggcute\",\"Exeggutor\",\"Cubone\",\"Hitmonlee\",\"Hitmonchan\",\"Lickitung\",\"Koffing\",\"Rhyhorn\",\"Chansey\",\"Tangela\",\"Kangaskhan\",\"Horsea\",\"Goldeen\",\"Seaking\",\"Staryu\",\"Starmie\",\"Mr. Mime\",\"Scyther\",\"Jynx\",\"Electabuzz\",\"Magmar\",\"Pinsir\",\"Tauros\",\"Magikarp\",\"Gyarados\",\"Lapras\",\"Ditto\",\"Eevee\",\"Vaporeon\",\"Jolteon\",\"Flareon\",\"Porygon\",\"Omanyte\",\"Kabuto\",\"Kabutops\",\"Aerodactyl\",\"Snorlax\",\"Articuno\",\"Zapdos\",\"Moltres\",\"Dratini\",\"Dragonite\",\"Mewtwo\"]\n",
    "\n",
    "# for pokemon in pokemonList:\n",
    "#     getImages(pokemon)"
   ]
  },
  {
   "cell_type": "markdown",
   "metadata": {},
   "source": [
    "### Montando caminhos das bases de treino e validação"
   ]
  },
  {
   "cell_type": "code",
   "execution_count": 3,
   "metadata": {},
   "outputs": [],
   "source": [
    "root = Path(\".\")\n",
    "trainPaths = list(root.rglob(\"dataset1/train/**/*\"))\n",
    "testPaths = list(root.rglob(\"dataset1/validation/**/*\"))"
   ]
  },
  {
   "cell_type": "markdown",
   "metadata": {},
   "source": [
    "\n",
    "### Convertendo os PNG para JPG"
   ]
  },
  {
   "cell_type": "markdown",
   "metadata": {},
   "source": [
    "- Usar as duas celulas abaixo apenas se necessário converter as imagens com transparência"
   ]
  },
  {
   "cell_type": "code",
   "execution_count": 4,
   "metadata": {
    "scrolled": true
   },
   "outputs": [],
   "source": [
    "# for path in trainPaths:\n",
    "#     if \"DS_Store\" not in path.stem and path.is_file():\n",
    "#         im = Image.open(path)\n",
    "#         rgb_im = im.convert('RGB')\n",
    "#         rgb_im.save(path.parent + path.stem + \".png\")"
   ]
  },
  {
   "cell_type": "code",
   "execution_count": 5,
   "metadata": {},
   "outputs": [],
   "source": [
    "# for path in testPaths:\n",
    "#     if \"DS_Store\" not in path.stem and path.is_file():\n",
    "#         im = Image.open(path)\n",
    "#         rgb_im = im.convert('RGB')\n",
    "#         rgb_im.save(path.parent + path.stem + \".png\")"
   ]
  },
  {
   "cell_type": "markdown",
   "metadata": {},
   "source": [
    "### Estatisticas  dos tamanhos das imagens"
   ]
  },
  {
   "cell_type": "code",
   "execution_count": 6,
   "metadata": {},
   "outputs": [],
   "source": [
    "def get_size_statistics(paths, typePath):\n",
    "    heights = []\n",
    "    widths = []\n",
    "    img_count = 0\n",
    "    for path in paths:\n",
    "        if \"DS_Store\" not in path.stem and path.is_file():\n",
    "            data = np.array(Image.open(path))\n",
    "            heights.append(data.shape[0])\n",
    "            widths.append(data.shape[1])\n",
    "            img_count += 1\n",
    "    avg_height = sum(heights) / len(heights)\n",
    "    avg_width = sum(widths) / len(widths)\n",
    "    print(\"Number of \" + typePath + \" images: \" + str(img_count))\n",
    "    print(\"Average Height of \"+ typePath + \"images: \" + str(avg_height)+\" px\")\n",
    "    print(\"Max Height of \"+ typePath + \"images: \" + str(max(heights))+\" px\")\n",
    "    print(\"Min Height of \"+ typePath + \"images: \" + str(min(heights))+\" px\")\n",
    "    print(\"Average Width of \"+ typePath + \"images: \" + str(avg_width)+\" px\")\n",
    "    print(\"Max Width of \"+ typePath + \"images: \" + str(max(widths))+\" px\")\n",
    "    print(\"Min Width of \"+ typePath + \"images: \" + str(min(widths))+\" px\")\n",
    "    print(\"\\n\")"
   ]
  },
  {
   "cell_type": "code",
   "execution_count": 7,
   "metadata": {
    "scrolled": true
   },
   "outputs": [
    {
     "name": "stdout",
     "output_type": "stream",
     "text": [
      "Number of Train images: 61\n",
      "Average Height of Trainimages: 3264.0 px\n",
      "Max Height of Trainimages: 3264 px\n",
      "Min Height of Trainimages: 3264 px\n",
      "Average Width of Trainimages: 1836.0 px\n",
      "Max Width of Trainimages: 1836 px\n",
      "Min Width of Trainimages: 1836 px\n",
      "\n",
      "\n",
      "Number of Test images: 22\n",
      "Average Height of Testimages: 3264.0 px\n",
      "Max Height of Testimages: 3264 px\n",
      "Min Height of Testimages: 3264 px\n",
      "Average Width of Testimages: 1836.0 px\n",
      "Max Width of Testimages: 1836 px\n",
      "Min Width of Testimages: 1836 px\n",
      "\n",
      "\n"
     ]
    }
   ],
   "source": [
    "warnings.filterwarnings(\"ignore\", \"(Possibly )?corrupt EXIF data\", UserWarning)\n",
    "get_size_statistics(trainPaths, \"Train\")\n",
    "get_size_statistics(testPaths, \"Test\")"
   ]
  },
  {
   "cell_type": "markdown",
   "metadata": {},
   "source": [
    "### OneHotEncoding das classes"
   ]
  },
  {
   "cell_type": "code",
   "execution_count": null,
   "metadata": {},
   "outputs": [],
   "source": [
    "nomes = []\n",
    "for path in trainPaths:\n",
    "    if path.is_dir():\n",
    "        nomes.append(path.name)\n",
    "    else:\n",
    "        continue"
   ]
  },
  {
   "cell_type": "markdown",
   "metadata": {},
   "source": [
    "- Salvando JSON com os nomes e índices dos pokemons, para usar no retorno da predição posteriormente"
   ]
  },
  {
   "cell_type": "code",
   "execution_count": null,
   "metadata": {},
   "outputs": [],
   "source": [
    "dictNomes = dict(zip(range(len(nomes)), nomes))\n",
    "\n",
    "with open('pokemonList.json', 'w') as pl:\n",
    "    json.dump(dictNomes, pl)"
   ]
  },
  {
   "cell_type": "markdown",
   "metadata": {},
   "source": [
    "- Encoding"
   ]
  },
  {
   "cell_type": "code",
   "execution_count": null,
   "metadata": {
    "scrolled": true
   },
   "outputs": [],
   "source": [
    "label_encoder = LabelEncoder()\n",
    "integer_encoded = label_encoder.fit_transform(nomes)\n",
    "onehot_encoder = OneHotEncoder(sparse=False)\n",
    "integer_encoded = integer_encoded.reshape(len(integer_encoded), 1)\n",
    "labels = onehot_encoder.fit_transform(integer_encoded)"
   ]
  },
  {
   "cell_type": "markdown",
   "metadata": {},
   "source": [
    "### Carregando as imagens das bases de treino e validação, aplicando os seguintes processos:\n",
    "- Convertendo para escala de cinza, assim a rede vai identificar as formas e então as cores serão irrelevantes.\n",
    "- Transformando todas as imagens para o mesmo tamanho.\n",
    "- Transformando as imagens em uma lista, onde o primeiro elemento é a imagem em formato de np.array e o segundo é a label da imagem de acordo com a classe.\n",
    "- Randomizando a lista para evitar bias na rede"
   ]
  },
  {
   "cell_type": "code",
   "execution_count": null,
   "metadata": {},
   "outputs": [],
   "source": [
    "IMG_SIZE_Y = 652 #em pixeis\n",
    "IMG_SIZE_X = 367 \n",
    "\n",
    "def load_data(paths, labels, nomes):\n",
    "    data = []\n",
    "    for path in paths:\n",
    "        if \"DS_Store\" not in path.stem and path.is_file():\n",
    "            img = Image.open(path)\n",
    "            img = img.convert('L')\n",
    "            img = img.resize((IMG_SIZE_X, IMG_SIZE_Y), Image.ANTIALIAS)\n",
    "            data.append([np.array(img), labels[nomes.index(path.parent.name)]])\n",
    "            \n",
    "    shuffle(data)\n",
    "    return data"
   ]
  },
  {
   "cell_type": "code",
   "execution_count": null,
   "metadata": {},
   "outputs": [],
   "source": [
    "train_data = load_data(trainPaths, labels, nomes)\n",
    "test_data = load_data(testPaths, labels, nomes)"
   ]
  },
  {
   "cell_type": "markdown",
   "metadata": {},
   "source": [
    "### Preparando a base para treino\n",
    "- Separando em x_train (matrix de imagens) e y_train (vetor de classes)."
   ]
  },
  {
   "cell_type": "code",
   "execution_count": null,
   "metadata": {},
   "outputs": [],
   "source": [
    "trainImages = np.array([i[0] for i in train_data]).reshape(-1, IMG_SIZE_X, IMG_SIZE_Y, 1)\n",
    "trainLabels = np.array([i[1] for i in train_data])"
   ]
  },
  {
   "cell_type": "markdown",
   "metadata": {},
   "source": [
    "### Preparando a rede e as camadas"
   ]
  },
  {
   "cell_type": "code",
   "execution_count": null,
   "metadata": {},
   "outputs": [],
   "source": [
    "model = Sequential()\n",
    "model.add(Conv2D(32, kernel_size = (3, 3), activation='relu', input_shape=(IMG_SIZE_X, IMG_SIZE_Y, 1)))\n",
    "model.add(MaxPooling2D(pool_size=(2,2)))\n",
    "model.add(BatchNormalization())\n",
    "model.add(Conv2D(64, kernel_size=(3,3), activation='relu'))\n",
    "model.add(MaxPooling2D(pool_size=(2,2)))\n",
    "model.add(BatchNormalization())\n",
    "model.add(Conv2D(96, kernel_size=(3,3), activation='relu'))\n",
    "model.add(MaxPooling2D(pool_size=(2,2)))\n",
    "model.add(BatchNormalization())\n",
    "model.add(Conv2D(96, kernel_size=(3,3), activation='relu'))\n",
    "model.add(MaxPooling2D(pool_size=(2,2)))\n",
    "model.add(BatchNormalization())\n",
    "model.add(Conv2D(64, kernel_size=(3,3), activation='relu'))\n",
    "model.add(MaxPooling2D(pool_size=(2,2)))\n",
    "model.add(BatchNormalization())\n",
    "model.add(Dropout(0.2))\n",
    "model.add(Flatten())\n",
    "model.add(Dense(256, activation='relu'))\n",
    "model.add(Dropout(0.2))\n",
    "model.add(Dense(128, activation='relu'))\n",
    "model.add(Dense(2, activation = 'softmax')) #29 é o numero de classes, TODO: deixar dinamico para a quantidade de pokemons"
   ]
  },
  {
   "cell_type": "code",
   "execution_count": null,
   "metadata": {},
   "outputs": [],
   "source": [
    "model.compile(loss='binary_crossentropy', optimizer='adam', metrics = ['accuracy'])"
   ]
  },
  {
   "cell_type": "code",
   "execution_count": null,
   "metadata": {
    "scrolled": true
   },
   "outputs": [],
   "source": [
    "#Treinando o modelo\n",
    "model.fit(trainImages, trainLabels, batch_size = 50, epochs = 50, verbose = 1, use_multiprocessing = True)"
   ]
  },
  {
   "cell_type": "markdown",
   "metadata": {},
   "source": [
    "### Verificando a perda e a precisão do modelo a cada epoch."
   ]
  },
  {
   "cell_type": "code",
   "execution_count": null,
   "metadata": {},
   "outputs": [],
   "source": [
    "fig = plt.figure()\n",
    "plt.plot(model.history.history['loss'])\n",
    "plt.legend(['Loss'], loc='upper right')\n",
    "plt.title('Validation Loss vs Epoch')\n",
    "plt.ylabel('Validation Loss')\n",
    "plt.xlabel('Epoch')"
   ]
  },
  {
   "cell_type": "code",
   "execution_count": null,
   "metadata": {
    "scrolled": true
   },
   "outputs": [],
   "source": [
    "fig = plt.figure()\n",
    "plt.plot(model.history.history['accuracy'])\n",
    "plt.legend(['Accuracy'], loc='upper left')\n",
    "plt.title('Validation Accuracy vs Epoch')\n",
    "plt.ylabel('Validation Accuracy')\n",
    "plt.xlabel('Epoch')"
   ]
  },
  {
   "cell_type": "markdown",
   "metadata": {},
   "source": [
    "### Aplicando base de validação no modelo."
   ]
  },
  {
   "cell_type": "code",
   "execution_count": null,
   "metadata": {},
   "outputs": [],
   "source": [
    "testImages = np.array([i[0] for i in test_data]).reshape(-1, IMG_SIZE_X, IMG_SIZE_Y, 1)\n",
    "testLabels = np.array([i[1] for i in test_data])"
   ]
  },
  {
   "cell_type": "code",
   "execution_count": null,
   "metadata": {},
   "outputs": [],
   "source": [
    "loss, acc = model.evaluate(testImages, testLabels, verbose = 0)"
   ]
  },
  {
   "cell_type": "code",
   "execution_count": null,
   "metadata": {},
   "outputs": [],
   "source": [
    "loss"
   ]
  },
  {
   "cell_type": "code",
   "execution_count": null,
   "metadata": {},
   "outputs": [],
   "source": [
    "acc"
   ]
  },
  {
   "cell_type": "markdown",
   "metadata": {},
   "source": [
    "### Testando com outra imagem fora da base"
   ]
  },
  {
   "cell_type": "code",
   "execution_count": null,
   "metadata": {},
   "outputs": [],
   "source": [
    "predict = Image.open(\"dataset1/validation/Kakuna/85.how-to-draw-Kakuna-from-Pokemon-step-0.png\")\n",
    "predict = predict.convert('L')\n",
    "predict = predict.resize((IMG_SIZE_X, IMG_SIZE_Y), Image.ANTIALIAS)"
   ]
  },
  {
   "cell_type": "code",
   "execution_count": null,
   "metadata": {},
   "outputs": [],
   "source": [
    "model.predict_classes(np.array(predict).reshape(-1, IMG_SIZE, IMG_SIZE, 1))"
   ]
  },
  {
   "cell_type": "markdown",
   "metadata": {},
   "source": [
    "- Salvando modelo"
   ]
  },
  {
   "cell_type": "code",
   "execution_count": null,
   "metadata": {},
   "outputs": [],
   "source": [
    "model.save(\"pokedex.h5\")"
   ]
  }
 ],
 "metadata": {
  "kernelspec": {
   "display_name": "Python 3",
   "language": "python",
   "name": "python3"
  },
  "language_info": {
   "codemirror_mode": {
    "name": "ipython",
    "version": 3
   },
   "file_extension": ".py",
   "mimetype": "text/x-python",
   "name": "python",
   "nbconvert_exporter": "python",
   "pygments_lexer": "ipython3",
   "version": "3.7.4"
  },
  "pycharm": {
   "stem_cell": {
    "cell_type": "raw",
    "metadata": {
     "collapsed": false
    },
    "source": []
   }
  }
 },
 "nbformat": 4,
 "nbformat_minor": 2
}

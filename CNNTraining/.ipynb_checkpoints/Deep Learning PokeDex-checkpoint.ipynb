{
 "cells": [
  {
   "cell_type": "code",
   "execution_count": null,
   "metadata": {},
   "outputs": [
    {
     "name": "stderr",
     "output_type": "stream",
     "text": [
      "Using TensorFlow backend.\n"
     ]
    }
   ],
   "source": [
    "#Imports\n",
    "\n",
    "#Google Search Lib\n",
    "from google_images_download import google_images_download\n",
    "\n",
    "#Keras layers\n",
    "from keras.layers import Dense, Dropout, Flatten\n",
    "from keras.layers import Conv2D, MaxPooling2D\n",
    "from keras.layers.normalization import BatchNormalization\n",
    "\n",
    "#Keras extras\n",
    "from keras.models import Sequential\n",
    "from keras.models import load_model\n",
    "\n",
    "#SciKit Encoders\n",
    "from sklearn.preprocessing import LabelEncoder\n",
    "from sklearn.preprocessing import OneHotEncoder\n",
    "\n",
    "#Libs Extras\n",
    "import matplotlib.pyplot as plt\n",
    "from random import shuffle\n",
    "from pathlib import Path\n",
    "from PIL import Image\n",
    "import numpy as np\n",
    "import warnings\n",
    "import json\n",
    "import h5py\n",
    "import os"
   ]
  },
  {
   "cell_type": "markdown",
   "metadata": {},
   "source": [
    "### Baixando as imagens necessárias para treino e teste da rede neural"
   ]
  },
  {
   "cell_type": "markdown",
   "metadata": {},
   "source": [
    "- Rodar apenas uma vez para baixar as imagens, filtrar manualmente as imagens sem contexto."
   ]
  },
  {
   "cell_type": "code",
   "execution_count": null,
   "metadata": {},
   "outputs": [],
   "source": [
    "# response = google_images_download.googleimagesdownload()\n",
    "\n",
    "\n",
    "# def getImages(key):\n",
    "#     arguments = {\"keywords\": key,\n",
    "#                  \"chromedriver\":\"./chromedriver\",\n",
    "#                  \"limit\":200,\n",
    "#                  \"offset\":100,\n",
    "#                  \"print_urls\":True,\n",
    "#                  \"output_directory\":\"dataset/validation/\"}\n",
    "#     print(arguments)\n",
    "#     response.download(arguments)\n",
    "\n",
    "# pokemonList = [\"Bulbasaur\",\"Charmander\",\"Squirtle\",\"Caterpie\",\"Metapod\",\"Butterfree\",\"Weedle\",\"Kakuna\",\"Beedrill\",\"Pidgey\",\"Rattata\",\"Raticate\",\"Spearow\",\"Fearow\",\"Ekans\",\"Pikachu\",\"Sandshrew\",\"Nidoqueen\",\"Nidoking\",\"Clefairy\",\"Vulpix\",\"Ninetales\",\"Jigglypuff\",\"Zubat\",\"Oddish\",\"Gloom\",\"Paras\",\"Venonat\",\"Venomoth\",\"Dugtrio\",\"Meowth\",\"Persian\",\"Psyduck\",\"Golduck\",\"Mankey\",\"Growlithe\",\"Poliwag\",\"Abra\",\"Machop\",\"Bellsprout\",\"Tentacool\",\"Geodude\",\"Ponyta\",\"Slowpoke\",\"Magnemite\",\"Farfetch'd\",\"Doduo\",\"Seel\",\"Grimer\",\"Shellder\",\"Cloyster\",\"Gastly\",\"Onix\",\"Drowzee\",\"Hypno\",\"Krabby\",\"Voltorb\",\"Exeggcute\",\"Exeggutor\",\"Cubone\",\"Hitmonlee\",\"Hitmonchan\",\"Lickitung\",\"Koffing\",\"Rhyhorn\",\"Chansey\",\"Tangela\",\"Kangaskhan\",\"Horsea\",\"Goldeen\",\"Seaking\",\"Staryu\",\"Starmie\",\"Mr. Mime\",\"Scyther\",\"Jynx\",\"Electabuzz\",\"Magmar\",\"Pinsir\",\"Tauros\",\"Magikarp\",\"Gyarados\",\"Lapras\",\"Ditto\",\"Eevee\",\"Vaporeon\",\"Jolteon\",\"Flareon\",\"Porygon\",\"Omanyte\",\"Kabuto\",\"Kabutops\",\"Aerodactyl\",\"Snorlax\",\"Articuno\",\"Zapdos\",\"Moltres\",\"Dratini\",\"Dragonite\",\"Mewtwo\"]\n",
    "\n",
    "# for pokemon in pokemonList:\n",
    "#     getImages(pokemon)"
   ]
  },
  {
   "cell_type": "markdown",
   "metadata": {},
   "source": [
    "### Montando caminhos das bases de treino e validação"
   ]
  },
  {
   "cell_type": "code",
   "execution_count": null,
   "metadata": {},
   "outputs": [],
   "source": [
    "root = Path(\".\")\n",
    "trainPaths = list(root.rglob(\"dataset1/train/**/*\"))\n",
    "testPaths = list(root.rglob(\"dataset1/validation/**/*\"))"
   ]
  },
  {
   "cell_type": "markdown",
   "metadata": {},
   "source": [
    "\n",
    "### Convertendo os PNG para JPG"
   ]
  },
  {
   "cell_type": "markdown",
   "metadata": {},
   "source": [
    "- Usar as duas celulas abaixo apenas se necessário converter as imagens com transparência"
   ]
  },
  {
   "cell_type": "code",
   "execution_count": null,
   "metadata": {
    "scrolled": true
   },
   "outputs": [],
   "source": [
    "# for path in trainPaths:\n",
    "#     if \"DS_Store\" not in path.stem and path.is_file():\n",
    "#         im = Image.open(path)\n",
    "#         rgb_im = im.convert('RGB')\n",
    "#         rgb_im.save(path.parent + path.stem + \".png\")"
   ]
  },
  {
   "cell_type": "code",
   "execution_count": null,
   "metadata": {},
   "outputs": [],
   "source": [
    "# for path in testPaths:\n",
    "#     if \"DS_Store\" not in path.stem and path.is_file():\n",
    "#         im = Image.open(path)\n",
    "#         rgb_im = im.convert('RGB')\n",
    "#         rgb_im.save(path.parent + path.stem + \".png\")"
   ]
  },
  {
   "cell_type": "markdown",
   "metadata": {},
   "source": [
    "### Estatisticas  dos tamanhos das imagens"
   ]
  },
  {
   "cell_type": "code",
   "execution_count": null,
   "metadata": {},
   "outputs": [],
   "source": [
    "def get_size_statistics(paths, typePath):\n",
    "    heights = []\n",
    "    widths = []\n",
    "    img_count = 0\n",
    "    for path in paths:\n",
    "        if \"DS_Store\" not in path.stem and path.is_file():\n",
    "            data = np.array(Image.open(path))\n",
    "            heights.append(data.shape[0])\n",
    "            widths.append(data.shape[1])\n",
    "            img_count += 1\n",
    "    avg_height = sum(heights) / len(heights)\n",
    "    avg_width = sum(widths) / len(widths)\n",
    "    print(\"Number of \" + typePath + \" images: \" + str(img_count))\n",
    "    print(\"Average Height of \"+ typePath + \"images: \" + str(avg_height)+\" px\")\n",
    "    print(\"Max Height of \"+ typePath + \"images: \" + str(max(heights))+\" px\")\n",
    "    print(\"Min Height of \"+ typePath + \"images: \" + str(min(heights))+\" px\")\n",
    "    print(\"Average Width of \"+ typePath + \"images: \" + str(avg_width)+\" px\")\n",
    "    print(\"Max Width of \"+ typePath + \"images: \" + str(max(widths))+\" px\")\n",
    "    print(\"Min Width of \"+ typePath + \"images: \" + str(min(widths))+\" px\")\n",
    "    print(\"\\n\")"
   ]
  },
  {
   "cell_type": "code",
   "execution_count": null,
   "metadata": {
    "scrolled": true
   },
   "outputs": [],
   "source": [
    "warnings.filterwarnings(\"ignore\", \"(Possibly )?corrupt EXIF data\", UserWarning)\n",
    "get_size_statistics(trainPaths, \"Train\")\n",
    "get_size_statistics(testPaths, \"Test\")"
   ]
  },
  {
   "cell_type": "markdown",
   "metadata": {},
   "source": [
    "### OneHotEncoding das classes"
   ]
  },
  {
   "cell_type": "code",
   "execution_count": 8,
   "metadata": {},
   "outputs": [],
   "source": [
    "nomes = []\n",
    "for path in trainPaths:\n",
    "    if path.is_dir():\n",
    "        nomes.append(path.name)\n",
    "    else:\n",
    "        continue"
   ]
  },
  {
   "cell_type": "markdown",
   "metadata": {},
   "source": [
    "- Salvando JSON com os nomes e índices dos pokemons, para usar no retorno da predição posteriormente"
   ]
  },
  {
   "cell_type": "code",
   "execution_count": 9,
   "metadata": {},
   "outputs": [],
   "source": [
    "dictNomes = dict(zip(range(len(nomes)), nomes))\n",
    "\n",
    "with open('pokemonList.json', 'w') as pl:\n",
    "    json.dump(dictNomes, pl)"
   ]
  },
  {
   "cell_type": "markdown",
   "metadata": {},
   "source": [
    "- Encoding"
   ]
  },
  {
   "cell_type": "code",
   "execution_count": 10,
   "metadata": {
    "scrolled": false
   },
   "outputs": [
    {
     "name": "stderr",
     "output_type": "stream",
     "text": [
      "/usr/local/lib/python3.7/site-packages/sklearn/preprocessing/_encoders.py:368: FutureWarning: The handling of integer data will change in version 0.22. Currently, the categories are determined based on the range [0, max(values)], while in the future they will be determined based on the unique values.\n",
      "If you want the future behaviour and silence this warning, you can specify \"categories='auto'\".\n",
      "In case you used a LabelEncoder before this OneHotEncoder to convert the categories to integers, then you can now use the OneHotEncoder directly.\n",
      "  warnings.warn(msg, FutureWarning)\n"
     ]
    }
   ],
   "source": [
    "label_encoder = LabelEncoder()\n",
    "integer_encoded = label_encoder.fit_transform(nomes)\n",
    "onehot_encoder = OneHotEncoder(sparse=False)\n",
    "integer_encoded = integer_encoded.reshape(len(integer_encoded), 1)\n",
    "labels = onehot_encoder.fit_transform(integer_encoded)"
   ]
  },
  {
   "cell_type": "markdown",
   "metadata": {},
   "source": [
    "### Carregando as imagens das bases de treino e validação, aplicando os seguintes processos:\n",
    "- Convertendo para escala de cinza, assim a rede vai identificar as formas e então as cores serão irrelevantes.\n",
    "- Transformando todas as imagens para o mesmo tamanho.\n",
    "- Transformando as imagens em uma lista, onde o primeiro elemento é a imagem em formato de np.array e o segundo é a label da imagem de acordo com a classe.\n",
    "- Randomizando a lista para evitar bias na rede"
   ]
  },
  {
   "cell_type": "code",
   "execution_count": 11,
   "metadata": {},
   "outputs": [],
   "source": [
    "IMG_SIZE = 300 #em pixeis\n",
    "\n",
    "def load_data(paths, labels, nomes):\n",
    "    data = []\n",
    "    for path in paths:\n",
    "        if \"DS_Store\" not in path.stem and path.is_file():\n",
    "            img = Image.open(path)\n",
    "            img = img.convert('L')\n",
    "            img = img.resize((IMG_SIZE, IMG_SIZE), Image.ANTIALIAS)\n",
    "            data.append([np.array(img), labels[nomes.index(path.parent.name)]])\n",
    "            \n",
    "    shuffle(data)\n",
    "    return data"
   ]
  },
  {
   "cell_type": "code",
   "execution_count": 12,
   "metadata": {},
   "outputs": [
    {
     "name": "stderr",
     "output_type": "stream",
     "text": [
      "/usr/local/lib/python3.7/site-packages/PIL/Image.py:932: UserWarning: Palette images with Transparency expressed in bytes should be converted to RGBA images\n",
      "  \"Palette images with Transparency expressed in bytes should be \"\n"
     ]
    }
   ],
   "source": [
    "train_data = load_data(trainPaths, labels, nomes)\n",
    "test_data = load_data(testPaths, labels, nomes)"
   ]
  },
  {
   "cell_type": "markdown",
   "metadata": {},
   "source": [
    "### Preparando a base para treino\n",
    "- Separando em x_train (matrix de imagens) e y_train (vetor de classes)."
   ]
  },
  {
   "cell_type": "code",
   "execution_count": 13,
   "metadata": {},
   "outputs": [],
   "source": [
    "trainImages = np.array([i[0] for i in train_data]).reshape(-1, IMG_SIZE, IMG_SIZE, 1)\n",
    "trainLabels = np.array([i[1] for i in train_data])"
   ]
  },
  {
   "cell_type": "markdown",
   "metadata": {},
   "source": [
    "### Preparando a rede e as camadas"
   ]
  },
  {
   "cell_type": "code",
   "execution_count": 14,
   "metadata": {},
   "outputs": [],
   "source": [
    "model = Sequential()\n",
    "model.add(Conv2D(32, kernel_size = (3, 3), activation='relu', input_shape=(IMG_SIZE, IMG_SIZE, 1)))\n",
    "model.add(MaxPooling2D(pool_size=(2,2)))\n",
    "model.add(BatchNormalization())\n",
    "model.add(Conv2D(64, kernel_size=(3,3), activation='relu'))\n",
    "model.add(MaxPooling2D(pool_size=(2,2)))\n",
    "model.add(BatchNormalization())\n",
    "model.add(Conv2D(96, kernel_size=(3,3), activation='relu'))\n",
    "model.add(MaxPooling2D(pool_size=(2,2)))\n",
    "model.add(BatchNormalization())\n",
    "model.add(Conv2D(96, kernel_size=(3,3), activation='relu'))\n",
    "model.add(MaxPooling2D(pool_size=(2,2)))\n",
    "model.add(BatchNormalization())\n",
    "model.add(Conv2D(64, kernel_size=(3,3), activation='relu'))\n",
    "model.add(MaxPooling2D(pool_size=(2,2)))\n",
    "model.add(BatchNormalization())\n",
    "model.add(Dropout(0.2))\n",
    "model.add(Flatten())\n",
    "model.add(Dense(256, activation='relu'))\n",
    "model.add(Dropout(0.2))\n",
    "model.add(Dense(128, activation='relu'))\n",
    "model.add(Dense(29, activation = 'softmax')) #29 é o numero de classes, TODO: deixar dinamico para a quantidade de pokemons"
   ]
  },
  {
   "cell_type": "code",
   "execution_count": 15,
   "metadata": {},
   "outputs": [],
   "source": [
    "model.compile(loss='binary_crossentropy', optimizer='adam', metrics = ['accuracy'])"
   ]
  },
  {
   "cell_type": "code",
   "execution_count": 16,
   "metadata": {},
   "outputs": [
    {
     "name": "stdout",
     "output_type": "stream",
     "text": [
      "Epoch 1/50\n",
      "942/942 [==============================] - 648s 688ms/step - loss: 0.1596 - accuracy: 0.9646\n",
      "Epoch 2/50\n",
      "942/942 [==============================] - 400s 425ms/step - loss: 0.1243 - accuracy: 0.9663\n",
      "Epoch 3/50\n",
      "942/942 [==============================] - 270s 286ms/step - loss: 0.0889 - accuracy: 0.9732\n",
      "Epoch 4/50\n",
      "942/942 [==============================] - 273s 289ms/step - loss: 0.0592 - accuracy: 0.9811\n",
      "Epoch 5/50\n",
      "942/942 [==============================] - 273s 290ms/step - loss: 0.0393 - accuracy: 0.9875\n",
      "Epoch 6/50\n",
      "942/942 [==============================] - 350s 372ms/step - loss: 0.0259 - accuracy: 0.9920\n",
      "Epoch 7/50\n",
      "942/942 [==============================] - 329s 349ms/step - loss: 0.0166 - accuracy: 0.9949\n",
      "Epoch 8/50\n",
      "942/942 [==============================] - 312s 331ms/step - loss: 0.0113 - accuracy: 0.9967\n",
      "Epoch 9/50\n",
      "942/942 [==============================] - 276s 293ms/step - loss: 0.0082 - accuracy: 0.9977\n",
      "Epoch 10/50\n",
      "942/942 [==============================] - 271s 287ms/step - loss: 0.0056 - accuracy: 0.9985\n",
      "Epoch 11/50\n",
      "942/942 [==============================] - 252s 268ms/step - loss: 0.0046 - accuracy: 0.9988\n",
      "Epoch 12/50\n",
      "942/942 [==============================] - 257s 273ms/step - loss: 0.0044 - accuracy: 0.9989\n",
      "Epoch 13/50\n",
      "942/942 [==============================] - 287s 305ms/step - loss: 0.0036 - accuracy: 0.9991\n",
      "Epoch 14/50\n",
      "942/942 [==============================] - 277s 294ms/step - loss: 0.0032 - accuracy: 0.9989\n",
      "Epoch 15/50\n",
      "942/942 [==============================] - 259s 275ms/step - loss: 0.0025 - accuracy: 0.9994\n",
      "Epoch 16/50\n",
      "942/942 [==============================] - 254s 270ms/step - loss: 0.0023 - accuracy: 0.9992\n",
      "Epoch 17/50\n",
      "942/942 [==============================] - 260s 276ms/step - loss: 0.0017 - accuracy: 0.9997\n",
      "Epoch 18/50\n",
      "942/942 [==============================] - 315s 334ms/step - loss: 0.0011 - accuracy: 0.9998\n",
      "Epoch 19/50\n",
      "942/942 [==============================] - 318s 338ms/step - loss: 0.0010 - accuracy: 0.9997\n",
      "Epoch 20/50\n",
      "942/942 [==============================] - 280s 297ms/step - loss: 8.2442e-04 - accuracy: 0.9999\n",
      "Epoch 21/50\n",
      "942/942 [==============================] - 272s 289ms/step - loss: 0.0012 - accuracy: 0.9998\n",
      "Epoch 22/50\n",
      "942/942 [==============================] - 279s 296ms/step - loss: 0.0014 - accuracy: 0.9997\n",
      "Epoch 23/50\n",
      "942/942 [==============================] - 280s 297ms/step - loss: 0.0025 - accuracy: 0.9991\n",
      "Epoch 24/50\n",
      "942/942 [==============================] - 275s 291ms/step - loss: 0.0036 - accuracy: 0.9990\n",
      "Epoch 25/50\n",
      "942/942 [==============================] - 264s 280ms/step - loss: 0.0040 - accuracy: 0.9987\n",
      "Epoch 26/50\n",
      "942/942 [==============================] - 278s 295ms/step - loss: 0.0032 - accuracy: 0.9989\n",
      "Epoch 27/50\n",
      "942/942 [==============================] - 269s 285ms/step - loss: 0.0034 - accuracy: 0.9988\n",
      "Epoch 28/50\n",
      "942/942 [==============================] - 262s 278ms/step - loss: 0.0064 - accuracy: 0.9977\n",
      "Epoch 29/50\n",
      "942/942 [==============================] - 260s 276ms/step - loss: 0.0053 - accuracy: 0.9979\n",
      "Epoch 30/50\n",
      "942/942 [==============================] - 270s 286ms/step - loss: 0.0050 - accuracy: 0.9982\n",
      "Epoch 31/50\n",
      "942/942 [==============================] - 362s 384ms/step - loss: 0.0037 - accuracy: 0.9985\n",
      "Epoch 32/50\n",
      "942/942 [==============================] - 327s 347ms/step - loss: 0.0039 - accuracy: 0.9988\n",
      "Epoch 33/50\n",
      "942/942 [==============================] - 292s 310ms/step - loss: 0.0059 - accuracy: 0.9979\n",
      "Epoch 34/50\n",
      "942/942 [==============================] - 266s 282ms/step - loss: 0.0063 - accuracy: 0.9980\n",
      "Epoch 35/50\n",
      "942/942 [==============================] - 284s 301ms/step - loss: 0.0070 - accuracy: 0.9978\n",
      "Epoch 36/50\n",
      "942/942 [==============================] - 274s 291ms/step - loss: 0.0055 - accuracy: 0.9978\n",
      "Epoch 37/50\n",
      "942/942 [==============================] - 270s 287ms/step - loss: 0.0051 - accuracy: 0.9984\n",
      "Epoch 38/50\n",
      "942/942 [==============================] - 270s 287ms/step - loss: 0.0042 - accuracy: 0.9987\n",
      "Epoch 39/50\n",
      "942/942 [==============================] - 257s 273ms/step - loss: 0.0033 - accuracy: 0.9990\n",
      "Epoch 40/50\n",
      "942/942 [==============================] - 265s 282ms/step - loss: 0.0037 - accuracy: 0.9988\n",
      "Epoch 41/50\n",
      "942/942 [==============================] - 261s 277ms/step - loss: 0.0042 - accuracy: 0.9986\n",
      "Epoch 42/50\n",
      "942/942 [==============================] - 250s 265ms/step - loss: 0.0025 - accuracy: 0.9991\n",
      "Epoch 43/50\n",
      "942/942 [==============================] - 269s 286ms/step - loss: 0.0022 - accuracy: 0.9992\n",
      "Epoch 44/50\n",
      "942/942 [==============================] - 486s 516ms/step - loss: 0.0016 - accuracy: 0.9993\n",
      "Epoch 45/50\n",
      "942/942 [==============================] - 531s 563ms/step - loss: 0.0030 - accuracy: 0.9993\n",
      "Epoch 46/50\n",
      "942/942 [==============================] - 513s 545ms/step - loss: 0.0030 - accuracy: 0.9993\n",
      "Epoch 47/50\n",
      "942/942 [==============================] - 450s 478ms/step - loss: 0.0036 - accuracy: 0.9992\n",
      "Epoch 48/50\n",
      "942/942 [==============================] - 386s 409ms/step - loss: 0.0020 - accuracy: 0.9993\n",
      "Epoch 49/50\n",
      "942/942 [==============================] - 306s 325ms/step - loss: 0.0026 - accuracy: 0.9992\n",
      "Epoch 50/50\n",
      "942/942 [==============================] - 379s 402ms/step - loss: 0.0022 - accuracy: 0.9993\n"
     ]
    },
    {
     "data": {
      "text/plain": [
       "<keras.callbacks.callbacks.History at 0x142d7de50>"
      ]
     },
     "execution_count": 16,
     "metadata": {},
     "output_type": "execute_result"
    }
   ],
   "source": [
    "#Treinando o modelo\n",
    "model.fit(trainImages, trainLabels, batch_size = 50, epochs = 50, verbose = 1, use_multiprocessing = True)"
   ]
  },
  {
   "cell_type": "markdown",
   "metadata": {},
   "source": [
    "### Verificando a perda e a precisão do modelo a cada epoch."
   ]
  },
  {
   "cell_type": "code",
   "execution_count": 17,
   "metadata": {},
   "outputs": [
    {
     "data": {
      "text/plain": [
       "Text(0.5, 0, 'Epoch')"
      ]
     },
     "execution_count": 17,
     "metadata": {},
     "output_type": "execute_result"
    },
    {
     "data": {
      "image/png": "[encoded data removed]",
      "text/plain": [
       "<Figure size 432x288 with 1 Axes>"
      ]
     },
     "metadata": {
      "needs_background": "light"
     },
     "output_type": "display_data"
    }
   ],
   "source": [
    "fig = plt.figure()\n",
    "plt.plot(model.history.history['loss'])\n",
    "plt.legend(['Loss'], loc='upper right')\n",
    "plt.title('Validation Loss vs Epoch')\n",
    "plt.ylabel('Validation Loss')\n",
    "plt.xlabel('Epoch')"
   ]
  },
  {
   "cell_type": "code",
   "execution_count": 18,
   "metadata": {
    "scrolled": true
   },
   "outputs": [
    {
     "data": {
      "text/plain": [
       "Text(0.5, 0, 'Epoch')"
      ]
     },
     "execution_count": 18,
     "metadata": {},
     "output_type": "execute_result"
    },
    {
     "data": {
      "image/png": "[encoded data removed]",
      "text/plain": [
       "<Figure size 432x288 with 1 Axes>"
      ]
     },
     "metadata": {
      "needs_background": "light"
     },
     "output_type": "display_data"
    }
   ],
   "source": [
    "fig = plt.figure()\n",
    "plt.plot(model.history.history['accuracy'])\n",
    "plt.legend(['Accuracy'], loc='upper left')\n",
    "plt.title('Validation Accuracy vs Epoch')\n",
    "plt.ylabel('Validation Accuracy')\n",
    "plt.xlabel('Epoch')"
   ]
  },
  {
   "cell_type": "markdown",
   "metadata": {},
   "source": [
    "### Aplicando base de validação no modelo."
   ]
  },
  {
   "cell_type": "code",
   "execution_count": 19,
   "metadata": {},
   "outputs": [],
   "source": [
    "testImages = np.array([i[0] for i in test_data]).reshape(-1, IMG_SIZE, IMG_SIZE, 1)\n",
    "testLabels = np.array([i[1] for i in test_data])"
   ]
  },
  {
   "cell_type": "code",
   "execution_count": 20,
   "metadata": {},
   "outputs": [],
   "source": [
    "loss, acc = model.evaluate(testImages, testLabels, verbose = 0)"
   ]
  },
  {
   "cell_type": "code",
   "execution_count": 21,
   "metadata": {},
   "outputs": [
    {
     "data": {
      "text/plain": [
       "0.1954318306314836"
      ]
     },
     "execution_count": 21,
     "metadata": {},
     "output_type": "execute_result"
    }
   ],
   "source": [
    "loss"
   ]
  },
  {
   "cell_type": "code",
   "execution_count": 22,
   "metadata": {},
   "outputs": [
    {
     "data": {
      "text/plain": [
       "0.9655172824859619"
      ]
     },
     "execution_count": 22,
     "metadata": {},
     "output_type": "execute_result"
    }
   ],
   "source": [
    "acc"
   ]
  },
  {
   "cell_type": "markdown",
   "metadata": {},
   "source": [
    "### Testando com outra imagem fora da base"
   ]
  },
  {
   "cell_type": "code",
   "execution_count": 23,
   "metadata": {},
   "outputs": [],
   "source": [
    "predict = Image.open(\"dataset1/validation/Kakuna/85.how-to-draw-Kakuna-from-Pokemon-step-0.png\")\n",
    "predict = predict.convert('L')\n",
    "predict = predict.resize((IMG_SIZE, IMG_SIZE), Image.ANTIALIAS)"
   ]
  },
  {
   "cell_type": "code",
   "execution_count": 24,
   "metadata": {},
   "outputs": [
    {
     "data": {
      "text/plain": [
       "array([11])"
      ]
     },
     "execution_count": 24,
     "metadata": {},
     "output_type": "execute_result"
    }
   ],
   "source": [
    "model.predict_classes(np.array(predict).reshape(-1, IMG_SIZE, IMG_SIZE, 1))"
   ]
  },
  {
   "cell_type": "markdown",
   "metadata": {},
   "source": [
    "- Salvando modelo"
   ]
  },
  {
   "cell_type": "code",
   "execution_count": 25,
   "metadata": {},
   "outputs": [],
   "source": [
    "model.save(\"pokedex.h5\")"
   ]
  }
 ],
 "metadata": {
  "kernelspec": {
   "display_name": "Python 3",
   "language": "python",
   "name": "python3"
  },
  "language_info": {
   "codemirror_mode": {
    "name": "ipython",
    "version": 3
   },
   "file_extension": ".py",
   "mimetype": "text/x-python",
   "name": "python",
   "nbconvert_exporter": "python",
   "pygments_lexer": "ipython3",
   "version": "3.7.4"
  },
  "pycharm": {
   "stem_cell": {
    "cell_type": "raw",
    "metadata": {
     "collapsed": false
    },
    "source": []
   }
  }
 },
 "nbformat": 4,
 "nbformat_minor": 2
}
